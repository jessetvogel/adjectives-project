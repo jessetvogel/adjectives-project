{
 "cells": [
  {
   "cell_type": "code",
   "execution_count": 4,
   "metadata": {},
   "outputs": [],
   "source": [
    "import yaml, json\n",
    "import os"
   ]
  },
  {
   "cell_type": "code",
   "execution_count": 5,
   "metadata": {},
   "outputs": [],
   "source": [
    "book = {}"
   ]
  },
  {
   "cell_type": "code",
   "execution_count": 6,
   "metadata": {},
   "outputs": [],
   "source": [
    "def add_yaml_to_book(filename, book):\n",
    "    try:\n",
    "        with open(filename, 'r') as file:\n",
    "            object = yaml.safe_load(file)\n",
    "            id = os.path.basename(filename)[:-5] # get id from filename by removing the .yaml extension\n",
    "            if id not in book:\n",
    "                book[id] = []\n",
    "            book[id].append(object)\n",
    "    except Exception as e:\n",
    "        print(f'Error reading \\'{filename}\\': {e}')\n",
    "        exit(1)\n",
    "\n",
    "def add_yaml_to_book_recursively(directory, book):\n",
    "    for (dir_path, _, filenames) in os.walk(directory):\n",
    "        for file in filenames:\n",
    "            if file.endswith('.yaml'):\n",
    "                filename = dir_path + '/' + file\n",
    "                add_yaml_to_book(filename, book)"
   ]
  },
  {
   "cell_type": "code",
   "execution_count": 7,
   "metadata": {},
   "outputs": [],
   "source": [
    "book = {}\n",
    "\n",
    "add_yaml_to_book_recursively('../data', book)\n",
    "\n",
    "with open('../json/book.json', 'w') as file:\n",
    "    json.dump(book, file)"
   ]
  },
  {
   "cell_type": "code",
   "execution_count": null,
   "metadata": {},
   "outputs": [],
   "source": [
    "print('✅ Book build successfully!')"
   ]
  }
 ],
 "metadata": {
  "kernelspec": {
   "display_name": "Python 3",
   "language": "python",
   "name": "python3"
  },
  "language_info": {
   "codemirror_mode": {
    "name": "ipython",
    "version": 3
   },
   "file_extension": ".py",
   "mimetype": "text/x-python",
   "name": "python",
   "nbconvert_exporter": "python",
   "pygments_lexer": "ipython3",
   "version": "3.10.14"
  }
 },
 "nbformat": 4,
 "nbformat_minor": 2
}
