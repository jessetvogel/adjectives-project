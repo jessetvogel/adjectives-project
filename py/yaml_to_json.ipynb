{
 "cells": [
  {
   "cell_type": "code",
   "execution_count": 8,
   "metadata": {},
   "outputs": [],
   "source": [
    "import yaml, json\n",
    "import os"
   ]
  },
  {
   "cell_type": "code",
   "execution_count": 9,
   "metadata": {},
   "outputs": [],
   "source": [
    "data = []"
   ]
  },
  {
   "cell_type": "code",
   "execution_count": 10,
   "metadata": {},
   "outputs": [],
   "source": [
    "def yaml_to_json(input_file, output_file):\n",
    "    try:\n",
    "        os.makedirs(os.path.dirname(output_file), exist_ok=True)\n",
    "        with open(input_file, 'r') as file_in, open(output_file, 'w') as file_out:\n",
    "            object = yaml.safe_load(file_in)\n",
    "            json.dump(object, file_out)\n",
    "\n",
    "            id = os.path.basename(input_file)[:-5]\n",
    "            data.append([id, object])\n",
    "    except Exception as e:\n",
    "        print(f'Error while converting \"{input_file}\" to \"{output_file}\": {e}')\n",
    "        exit(1)"
   ]
  },
  {
   "cell_type": "code",
   "execution_count": 11,
   "metadata": {},
   "outputs": [],
   "source": [
    "input_directory = '../data'\n",
    "output_directory = '../json'"
   ]
  },
  {
   "cell_type": "code",
   "execution_count": 12,
   "metadata": {},
   "outputs": [],
   "source": [
    "def convert_recursively(directory):\n",
    "    for (dir_path, _, filenames) in os.walk(directory):\n",
    "        for file in filenames:\n",
    "            if file.endswith('.yaml'):\n",
    "                filepath_in = dir_path + '/' + file\n",
    "                filepath_out = dir_path.replace(input_directory, output_directory) + '/' + file.replace('.yaml', '.json')\n",
    "                yaml_to_json(filepath_in, filepath_out)"
   ]
  },
  {
   "cell_type": "code",
   "execution_count": 13,
   "metadata": {},
   "outputs": [],
   "source": [
    "data = []\n",
    "convert_recursively(input_directory)"
   ]
  },
  {
   "cell_type": "code",
   "execution_count": 14,
   "metadata": {},
   "outputs": [],
   "source": [
    "with open('../data.json', 'w') as file_out:\n",
    "    json.dump(data, file_out)"
   ]
  },
  {
   "cell_type": "code",
   "execution_count": null,
   "metadata": {},
   "outputs": [],
   "source": []
  }
 ],
 "metadata": {
  "kernelspec": {
   "display_name": "Python 3",
   "language": "python",
   "name": "python3"
  },
  "language_info": {
   "codemirror_mode": {
    "name": "ipython",
    "version": 3
   },
   "file_extension": ".py",
   "mimetype": "text/x-python",
   "name": "python",
   "nbconvert_exporter": "python",
   "pygments_lexer": "ipython3",
   "version": "3.10.14"
  }
 },
 "nbformat": 4,
 "nbformat_minor": 2
}
